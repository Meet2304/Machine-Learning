{
 "cells": [
  {
   "cell_type": "markdown",
   "id": "a35b1d6f",
   "metadata": {},
   "source": [
    "# Simple and Multi Linear Regression"
   ]
  },
  {
   "cell_type": "code",
   "execution_count": 7,
   "id": "8f847c04",
   "metadata": {},
   "outputs": [],
   "source": [
    "import numpy as np\n",
    "import pandas as pd\n",
    "import matplotlib.pyplot as plt\n",
    "from sklearn.metrics import mean_squared_error, mean_absolute_error, r2_score"
   ]
  },
  {
   "cell_type": "code",
   "execution_count": 8,
   "id": "31da46c4",
   "metadata": {},
   "outputs": [
    {
     "data": {
      "text/html": [
       "<div>\n",
       "<style scoped>\n",
       "    .dataframe tbody tr th:only-of-type {\n",
       "        vertical-align: middle;\n",
       "    }\n",
       "\n",
       "    .dataframe tbody tr th {\n",
       "        vertical-align: top;\n",
       "    }\n",
       "\n",
       "    .dataframe thead th {\n",
       "        text-align: right;\n",
       "    }\n",
       "</style>\n",
       "<table border=\"1\" class=\"dataframe\">\n",
       "  <thead>\n",
       "    <tr style=\"text-align: right;\">\n",
       "      <th></th>\n",
       "      <th>Population</th>\n",
       "      <th>Years_in_business</th>\n",
       "      <th>Profit</th>\n",
       "    </tr>\n",
       "  </thead>\n",
       "  <tbody>\n",
       "    <tr>\n",
       "      <th>0</th>\n",
       "      <td>10000</td>\n",
       "      <td>5</td>\n",
       "      <td>10000.0</td>\n",
       "    </tr>\n",
       "    <tr>\n",
       "      <th>1</th>\n",
       "      <td>15000</td>\n",
       "      <td>6</td>\n",
       "      <td>12000.0</td>\n",
       "    </tr>\n",
       "    <tr>\n",
       "      <th>2</th>\n",
       "      <td>20000</td>\n",
       "      <td>6</td>\n",
       "      <td>13000.0</td>\n",
       "    </tr>\n",
       "    <tr>\n",
       "      <th>3</th>\n",
       "      <td>9000</td>\n",
       "      <td>5</td>\n",
       "      <td>12000.0</td>\n",
       "    </tr>\n",
       "    <tr>\n",
       "      <th>4</th>\n",
       "      <td>12000</td>\n",
       "      <td>4</td>\n",
       "      <td>NaN</td>\n",
       "    </tr>\n",
       "  </tbody>\n",
       "</table>\n",
       "</div>"
      ],
      "text/plain": [
       "   Population  Years_in_business   Profit\n",
       "0       10000                  5  10000.0\n",
       "1       15000                  6  12000.0\n",
       "2       20000                  6  13000.0\n",
       "3        9000                  5  12000.0\n",
       "4       12000                  4      NaN"
      ]
     },
     "execution_count": 8,
     "metadata": {},
     "output_type": "execute_result"
    }
   ],
   "source": [
    "# Dataset: Manually added\n",
    "data = {\n",
    "    'Population': [10000, 15000, 20000, 9000, 12000],\n",
    "    'Years_in_business': [5, 6, 6, 5, 4],\n",
    "    'Profit': [10000, 12000, 13000, 12000, np.nan]\n",
    "}\n",
    "df = pd.DataFrame(data)\n",
    "df"
   ]
  },
  {
   "cell_type": "markdown",
   "id": "657c195e",
   "metadata": {},
   "source": [
    "### Simple Linear Regression (Population → Profit)"
   ]
  },
  {
   "cell_type": "code",
   "execution_count": 9,
   "id": "d7cd3b57",
   "metadata": {},
   "outputs": [
    {
     "name": "stdout",
     "output_type": "stream",
     "text": [
      "Simple Linear Regression Coefficients: [9.38311688e+03 1.75324675e-01]\n"
     ]
    }
   ],
   "source": [
    "# Filter out row with missing profit\n",
    "df_simple = df.dropna(subset=['Profit'])\n",
    "\n",
    "# Features and labels\n",
    "X_simple = df_simple[['Population']].values\n",
    "y_simple = df_simple['Profit'].values\n",
    "\n",
    "# Add intercept\n",
    "X_b = np.c_[np.ones((X_simple.shape[0], 1)), X_simple]\n",
    "\n",
    "# Normal Equation\n",
    "theta_normal = np.linalg.inv(X_b.T @ X_b) @ X_b.T @ y_simple\n",
    "\n",
    "def predict_simple(population):\n",
    "    return theta_normal[0] + theta_normal[1] * population\n",
    "\n",
    "print(\"Simple Linear Regression Coefficients:\", theta_normal)\n"
   ]
  },
  {
   "cell_type": "markdown",
   "id": "4b1c6df4",
   "metadata": {},
   "source": [
    "### Manual Gradient Descent"
   ]
  },
  {
   "cell_type": "code",
   "execution_count": 10,
   "id": "0186d785",
   "metadata": {},
   "outputs": [
    {
     "name": "stdout",
     "output_type": "stream",
     "text": [
      "Gradient Descent Coefficients: [0.01798189 0.80396902]\n"
     ]
    }
   ],
   "source": [
    "def gradient_descent(X, y, alpha=0.000000001, epochs=10000):\n",
    "    m = len(y)\n",
    "    X_b = np.c_[np.ones((m, 1)), X]\n",
    "    theta = np.zeros(2)\n",
    "    for _ in range(epochs):\n",
    "        gradients = (2/m) * X_b.T @ (X_b @ theta - y)\n",
    "        theta -= alpha * gradients\n",
    "    return theta\n",
    "\n",
    "theta_gd = gradient_descent(X_simple, y_simple)\n",
    "print(\"Gradient Descent Coefficients:\", theta_gd)\n"
   ]
  },
  {
   "cell_type": "markdown",
   "id": "6e9650f2",
   "metadata": {},
   "source": [
    "### Performance Evaluation (Simple Linear)"
   ]
  },
  {
   "cell_type": "code",
   "execution_count": 11,
   "id": "b0c7f32f",
   "metadata": {},
   "outputs": [
    {
     "name": "stdout",
     "output_type": "stream",
     "text": [
      "Simple Linear Regression Metrics:\n",
      "MSE: 595779.2207792208\n",
      "MAE: 574.6753246753251\n",
      "RMSE: 771.8673595762557\n",
      "R²: 0.4982911825017088\n"
     ]
    }
   ],
   "source": [
    "y_pred_simple = X_b @ theta_normal\n",
    "mse = mean_squared_error(y_simple, y_pred_simple)\n",
    "mae = mean_absolute_error(y_simple, y_pred_simple)\n",
    "rmse = np.sqrt(mse)\n",
    "r2 = r2_score(y_simple, y_pred_simple)\n",
    "\n",
    "print(\"Simple Linear Regression Metrics:\")\n",
    "print(\"MSE:\", mse)\n",
    "print(\"MAE:\", mae)\n",
    "print(\"RMSE:\", rmse)\n",
    "print(\"R²:\", r2)\n"
   ]
  },
  {
   "cell_type": "markdown",
   "id": "3a86745a",
   "metadata": {},
   "source": [
    "### Multi-Linear Regression (Population + Years → Profit)"
   ]
  },
  {
   "cell_type": "code",
   "execution_count": 12,
   "id": "3edc7183",
   "metadata": {},
   "outputs": [
    {
     "name": "stdout",
     "output_type": "stream",
     "text": [
      "Multi-Linear Regression Coefficients: [7.01923077e+03 1.15384615e-01 5.76923077e+02]\n"
     ]
    }
   ],
   "source": [
    "# Prepare data\n",
    "df_multi = df.dropna(subset=['Profit'])\n",
    "X_multi = df_multi[['Population', 'Years_in_business']].values\n",
    "y_multi = df_multi['Profit'].values\n",
    "\n",
    "# Add intercept\n",
    "X_b_multi = np.c_[np.ones((X_multi.shape[0], 1)), X_multi]\n",
    "\n",
    "# Normal Equation\n",
    "theta_multi = np.linalg.inv(X_b_multi.T @ X_b_multi) @ X_b_multi.T @ y_multi\n",
    "print(\"Multi-Linear Regression Coefficients:\", theta_multi)\n"
   ]
  },
  {
   "cell_type": "markdown",
   "id": "112d25a5",
   "metadata": {},
   "source": [
    "### Performance Evaluation (Multi-Linear)"
   ]
  },
  {
   "cell_type": "code",
   "execution_count": 13,
   "id": "82e28b73",
   "metadata": {},
   "outputs": [
    {
     "name": "stdout",
     "output_type": "stream",
     "text": [
      "Multi-Linear Regression Metrics:\n",
      "MSE: 581730.7692307696\n",
      "MAE: 634.615384615402\n",
      "RMSE: 762.7127698096903\n",
      "R²: 0.5101214574898782\n"
     ]
    }
   ],
   "source": [
    "y_pred_multi = X_b_multi @ theta_multi\n",
    "mse_multi = mean_squared_error(y_multi, y_pred_multi)\n",
    "mae_multi = mean_absolute_error(y_multi, y_pred_multi)\n",
    "rmse_multi = np.sqrt(mse_multi)\n",
    "r2_multi = r2_score(y_multi, y_pred_multi)\n",
    "\n",
    "print(\"Multi-Linear Regression Metrics:\")\n",
    "print(\"MSE:\", mse_multi)\n",
    "print(\"MAE:\", mae_multi)\n",
    "print(\"RMSE:\", rmse_multi)\n",
    "print(\"R²:\", r2_multi)\n"
   ]
  },
  {
   "cell_type": "markdown",
   "id": "2a2d7999",
   "metadata": {},
   "source": [
    "### Model Comparison Table"
   ]
  },
  {
   "cell_type": "code",
   "execution_count": 14,
   "id": "71ba5868",
   "metadata": {},
   "outputs": [
    {
     "name": "stdout",
     "output_type": "stream",
     "text": [
      "  Metric  Simple Linear   Multi-Linear\n",
      "0    MSE  595779.220779  581730.769231\n",
      "1    MAE     574.675325     634.615385\n",
      "2   RMSE     771.867360     762.712770\n",
      "3     R²       0.498291       0.510121\n"
     ]
    }
   ],
   "source": [
    "comparison_df = pd.DataFrame({\n",
    "    \"Metric\": [\"MSE\", \"MAE\", \"RMSE\", \"R²\"],\n",
    "    \"Simple Linear\": [mse, mae, rmse, r2],\n",
    "    \"Multi-Linear\": [mse_multi, mae_multi, rmse_multi, r2_multi]\n",
    "})\n",
    "print(comparison_df)\n"
   ]
  },
  {
   "cell_type": "markdown",
   "id": "ca5f556e",
   "metadata": {},
   "source": [
    "### Visualization"
   ]
  },
  {
   "cell_type": "code",
   "execution_count": 15,
   "id": "01874b72",
   "metadata": {},
   "outputs": [
    {
     "data": {
      "image/png": "[encoded data removed]",
      "text/plain": [
       "<Figure size 1000x600 with 1 Axes>"
      ]
     },
     "metadata": {},
     "output_type": "display_data"
    }
   ],
   "source": [
    "plt.figure(figsize=(10, 6))\n",
    "plt.scatter(df_simple['Population'], y_simple, color='blue', label='Actual')\n",
    "plt.plot(df_simple['Population'], y_pred_simple, color='red', label='Predicted (Simple Linear)')\n",
    "plt.xlabel(\"Population\")\n",
    "plt.ylabel(\"Profit\")\n",
    "plt.title(\"Simple Linear Regression\")\n",
    "plt.legend()\n",
    "plt.grid(True)\n",
    "plt.show()\n"
   ]
  }
 ],
 "metadata": {
  "kernelspec": {
   "display_name": "Python 3",
   "language": "python",
   "name": "python3"
  },
  "language_info": {
   "codemirror_mode": {
    "name": "ipython",
    "version": 3
   },
   "file_extension": ".py",
   "mimetype": "text/x-python",
   "name": "python",
   "nbconvert_exporter": "python",
   "pygments_lexer": "ipython3",
   "version": "3.12.2"
  }
 },
 "nbformat": 4,
 "nbformat_minor": 5
}
